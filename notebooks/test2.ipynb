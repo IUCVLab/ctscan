{
 "nbformat": 4,
 "nbformat_minor": 2,
 "metadata": {
  "language_info": {
   "name": "python",
   "codemirror_mode": {
    "name": "ipython",
    "version": 3
   },
   "version": "3.7.6-final"
  },
  "orig_nbformat": 2,
  "file_extension": ".py",
  "mimetype": "text/x-python",
  "name": "python",
  "npconvert_exporter": "python",
  "pygments_lexer": "ipython3",
  "version": 3,
  "kernelspec": {
   "name": "python3",
   "display_name": "Python 3"
  }
 },
 "cells": [
  {
   "cell_type": "code",
   "execution_count": 33,
   "metadata": {},
   "outputs": [],
   "source": [
    "import simplejson as json\n",
    "from pathlib import Path\n",
    "import imageio\n",
    "import cv2\n",
    "import numpy as np"
   ]
  },
  {
   "cell_type": "code",
   "execution_count": 4,
   "metadata": {},
   "outputs": [],
   "source": [
    "data = json.load(Path(\"export-2020-04-04T20_45_25.408Z.json\").open())"
   ]
  },
  {
   "cell_type": "code",
   "execution_count": 47,
   "metadata": {},
   "outputs": [],
   "source": [
    "common = Path(\"marks\")\n",
    "\n",
    "for dataset in data:\n",
    "    ds_folder = Path(dataset[\"Dataset Name\"][-2:])\n",
    "    image_name = dataset[\"External ID\"]\n",
    "\n",
    "    aortaURI = dataset[\"Label\"]['objects'][0]['instanceURI']\n",
    "    aorta = imageio.imread(aortaURI)[..., 0]\n",
    "    imageio.imsave(common / \"masks\" / ds_folder / (image_name+\".binary\"), aorta, format='png')\n",
    "\n",
    "    contours, _ = cv2.findContours(aorta, cv2.RETR_TREE, cv2.CHAIN_APPROX_SIMPLE)\n",
    "    aorta_contour = contours[0]\n",
    "    np.save(common / \"contours\" / ds_folder / image_name, aorta_contour)"
   ]
  }
 ]
}