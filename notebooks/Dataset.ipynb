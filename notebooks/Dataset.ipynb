{
 "cells": [
  {
   "cell_type": "code",
   "execution_count": 46,
   "metadata": {},
   "outputs": [],
   "source": [
    "import h5py as h5\n",
    "from pathlib import Path\n",
    "from pydicom import dcmread\n",
    "import numpy as np\n",
    "\n",
    "\n",
    "class TagError(KeyError):\n",
    "    pass\n",
    "\n",
    "\n",
    "class Dataset:\n",
    "    def __init__ (self, file='dataset.hdf5'):\n",
    "        self.__file = h5.File(file)\n",
    "\n",
    "        if \"counter\" not in self.__file.attrs:\n",
    "            self.__file.attrs['counter'] = 0\n",
    "\n",
    "        self.__update_studylist()\n",
    "\n",
    "    def __del__(self):\n",
    "        self.__file.close()\n",
    "\n",
    "    def __getitem__(self, key):\n",
    "        if type(key) == slice or type(key) == int:\n",
    "            return self.__studylist.__getitem__(key)\n",
    "        elif type(key) == str:\n",
    "            return self.__getattr__(self, key)\n",
    "\n",
    "    def __getattr__(self, tag):\n",
    "        return self.__studylist.__getattr__(tag)\n",
    "\n",
    "    def __update_studylist(self):\n",
    "        self.__studylist = StudyList([item for item in self.__file.values() if type(item) if h5.Dataset])\n",
    "\n",
    "    def add_dicom_study(self, directory, file_format=\"*\", tags=None):\n",
    "            directory = Path(directory)\n",
    "            slices = [dcmread(str(f)) for f in directory.glob(file_format) if f.is_file()]\n",
    "            slices.sort(key=lambda x: x.SliceLocation)\n",
    "\n",
    "            image = np.array([slice_.pixel_array + slice_.RescaleIntercept for slice_ in slices], dtype=np.int16)\n",
    "            scale = float(slices[0].PixelSpacing[0]), float(slices[0].PixelSpacing[1]), float(slices[0].SliceThickness)\n",
    "\n",
    "            self.__file.attrs['counter'] += 1\n",
    "            self.__file.create_dataset(name=f\"Study{self.__file.attrs['counter']}\", data=image)\n",
    "\n",
    "            self.__update_studylist()\n",
    "\n",
    "\n",
    "class StudyList(list):\n",
    "    def __init__(self, *args, tags=[], **kwargs):\n",
    "        super().__init__(*args, **kwargs)\n",
    "        self.__tags = tags\n",
    "\n",
    "    def __str__(self):\n",
    "        return f\"<StudyList> tags:{self.__tags} length:{len(self)}\"\n",
    "\n",
    "    def __getattr__(self, tag):\n",
    "        if tag in self.__tags:\n",
    "            raise TagError(\"Tag {tag} already present\")\n",
    "        return StudyList([dataset for dataset in self if tag in dataset.attrs['tags']], self.__tags + [tag])\n",
    "\n",
    "\n",
    "class Study:\n",
    "    def __init__(self, dataset):\n",
    "        self.__dataset = dataset\n",
    "        self.__space = dataset.attrs[\"space\"]\n",
    "        self.reset()\n",
    "\n",
    "    def __getitem__(self, key):\n",
    "        if type(key) == slice or type(key) == int:\n",
    "            return self.__dataset[key]\n",
    "    \n",
    "    @property\n",
    "    def space(self):\n",
    "        return self.__space\n",
    "\n",
    "    def reset(self):\n",
    "        self.tags = list(self.__dataset.attrs['tags'])\n",
    "\n",
    "    def save(self):\n",
    "        self.__dataset.attrs['tags'] = self.tags"
   ]
  },
  {
   "cell_type": "code",
   "execution_count": 51,
   "metadata": {},
   "outputs": [],
   "source": [
    "dataset = Dataset()"
   ]
  },
  {
   "cell_type": "code",
   "execution_count": 53,
   "metadata": {},
   "outputs": [
    {
     "output_type": "execute_result",
     "data": {
      "text/plain": "[<HDF5 dataset \"Study1\": shape (417, 512, 512), type \"<i2\">]"
     },
     "metadata": {},
     "execution_count": 53
    }
   ],
   "source": [
    "dataset[:]"
   ]
  },
  {
   "cell_type": "code",
   "execution_count": 52,
   "metadata": {
    "tags": [
     "outputPrepend",
     "outputPrepend"
    ]
   },
   "outputs": [],
   "source": [
    "dataset.add_dicom_study(\"data/01_Samodurov/DICOM/PA000000/ST000000/SE000003\")"
   ]
  },
  {
   "cell_type": "code",
   "execution_count": 31,
   "metadata": {},
   "outputs": [],
   "source": [
    "f = h5.File(\"dataset.hdf5\")"
   ]
  },
  {
   "cell_type": "code",
   "execution_count": 44,
   "metadata": {},
   "outputs": [
    {
     "output_type": "execute_result",
     "data": {
      "text/plain": "ItemsViewHDF5(<HDF5 file \"dataset.hdf5\" (mode r+)>)"
     },
     "metadata": {},
     "execution_count": 44
    }
   ],
   "source": [
    "f.get()"
   ]
  },
  {
   "cell_type": "code",
   "execution_count": 34,
   "metadata": {},
   "outputs": [
    {
     "output_type": "execute_result",
     "data": {
      "text/plain": "<HDF5 dataset (\"anonymous\"): shape (3,), type \"<i8\">"
     },
     "metadata": {},
     "execution_count": 34
    }
   ],
   "source": [
    "f.create_dataset(name=None,data=[1,2,3])"
   ]
  },
  {
   "cell_type": "code",
   "execution_count": 39,
   "metadata": {},
   "outputs": [],
   "source": [
    "f['counter'] = 13"
   ]
  }
 ],
 "metadata": {
  "language_info": {
   "codemirror_mode": {
    "name": "ipython",
    "version": 3
   },
   "file_extension": ".py",
   "mimetype": "text/x-python",
   "name": "python",
   "nbconvert_exporter": "python",
   "pygments_lexer": "ipython3",
   "version": "3.7.6-final"
  },
  "orig_nbformat": 2,
  "kernelspec": {
   "name": "python3",
   "display_name": "Python 3"
  }
 },
 "nbformat": 4,
 "nbformat_minor": 2
}