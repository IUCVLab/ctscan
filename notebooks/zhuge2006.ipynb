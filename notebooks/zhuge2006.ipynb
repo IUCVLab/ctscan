{
 "cells": [
  {
   "cell_type": "code",
   "execution_count": 2,
   "metadata": {
    "pycharm": {
     "is_executing": false,
     "name": "#%%\n"
    }
   },
   "outputs": [],
   "source": [
    "%gui qt\n",
    "import numpy as np\n",
    "from numpy import logical_and, logical_or, logical_not\n",
    "from os.path import dirname, join\n",
    "from matplotlib import pyplot as plt\n",
    "from utils.image import show_image, window_image, edge_image, read_serie\n",
    "from utils.cluster import pseudo_dbscan_1d"
   ]
  },
  {
   "cell_type": "code",
   "execution_count": 3,
   "metadata": {},
   "outputs": [],
   "source": [
    "from pathlib import Path\n",
    "\n",
    "resource_folder = Path(\"resources\")\n",
    "\n",
    "paths = (\n",
    "    resource_folder / \"01_Samodurov/DICOM/PA000000/ST000000/SE000003\",\n",
    "    resource_folder / \"01_Samodurov/DICOM/PA000001/ST000000/SE000003\",\n",
    "    resource_folder / \"01_Samodurov/DICOM/PA000001/ST000000/SE000004\",\n",
    "    resource_folder / \"01_Samodurov/DICOM/PA000001/ST000000/SE000006\",\n",
    "    resource_folder / \"01_Samodurov/DICOM/PA000001/ST000000/SE000007\",\n",
    "    resource_folder / \"01_Samodurov/DICOM/PA000001/ST000000/SE000008\",\n",
    "    resource_folder / \"01_Samodurov/DICOM/PA000001/ST000000/SE000009\",\n",
    "    resource_folder / \"01_Samodurov/DICOM/PA000001/ST000000/SE000010\",\n",
    "    resource_folder / \"01_Samodurov/DICOM/PA000001/ST000000/SE000011\",\n",
    "    resource_folder / \"04_Gayvor/DICOM/PA0/ST0/SE0\",\n",
    "    resource_folder / \"10_Gushchin/DICOM/19122711/26570001\",\n",
    "    resource_folder / \"10_Gushchin/DICOM/19122711/26570002\",\n",
    "    resource_folder / \"11_Suhushin/DICOM/PA0/ST0/SE3\",\n",
    "    resource_folder / \"11_Suhushin/DICOM/PA0/ST0/SE4\",\n",
    "    resource_folder / \"11_Suhushin/DICOM/PA0/ST0/SE5\",\n",
    ")\n",
    "\n",
    "unrelated_paths = (\n",
    "    resource_folder / \"10_Gushchin/DICOM/19122711/26570002\",\n",
    "    resource_folder / \"11_Suhushin/DICOM/PA0/ST0/SE5\",\n",
    ")\n",
    "\n",
    "contrast_paths = (\n",
    "    resource_folder / \"10_Gushchin/DICOM/19122711/26570001\",\n",
    "    resource_folder / \"11_Suhushin/DICOM/PA0/ST0/SE3\",\n",
    "    resource_folder / \"11_Suhushin/DICOM/PA0/ST0/SE4\",\n",
    ")"
   ]
  },
  {
   "cell_type": "code",
   "execution_count": 4,
   "metadata": {},
   "outputs": [
    {
     "name": "stdout",
     "output_type": "stream",
     "text": [
      "resources/11_Suhushin/DICOM/PA0/ST0/SE4\n"
     ]
    }
   ],
   "source": [
    "path = contrast_paths[2]\n",
    "print(path)\n",
    "\n",
    "image, space = read_serie(path)\n",
    "image = image[776:862]\n",
    "\n",
    "# show_image((image,space))"
   ]
  },
  {
   "cell_type": "code",
   "execution_count": 35,
   "metadata": {},
   "outputs": [],
   "source": [
    "show_image((window_image(image, 50, 200), space))"
   ]
  },
  {
   "cell_type": "code",
   "execution_count": 9,
   "metadata": {},
   "outputs": [],
   "source": [
    "from skimage import measure\n",
    "\n",
    "binary = window_image(image, 50, 200) == 250\n",
    "\n",
    "labels = measure.label(binary, connectivity=1, background = False)"
   ]
  },
  {
   "cell_type": "code",
   "execution_count": 10,
   "metadata": {},
   "outputs": [],
   "source": [
    "show_image((labels, space), (binary, space))"
   ]
  },
  {
   "cell_type": "code",
   "execution_count": 11,
   "metadata": {},
   "outputs": [],
   "source": [
    "show_image(((labels==3), space))"
   ]
  },
  {
   "cell_type": "code",
   "execution_count": 26,
   "metadata": {},
   "outputs": [
    {
     "name": "stdout",
     "output_type": "stream",
     "text": [
      "(86, 512, 512)\n"
     ]
    }
   ],
   "source": [
    "import cv2\n",
    "\n",
    "aorta = (labels == 3).astype('uint8')\n",
    "print(aorta.shape)\n",
    "\n",
    "# cv_image = cv2.cvtColor(aorta.reshape(-1, 512, 512 ,1), cv2.COLOR_GRAY2RGB)\n",
    "\n",
    "res, cont = cv2.findContours(aorta[0], cv2.RETR_TREE, cv2.CHAIN_APPROX_SIMPLE)"
   ]
  },
  {
   "cell_type": "code",
   "execution_count": 39,
   "metadata": {},
   "outputs": [
    {
     "data": {
      "text/plain": [
       "array([[[ 6, -1,  1, -1],\n",
       "        [ 2, -1, -1,  0],\n",
       "        [ 3,  1, -1,  0],\n",
       "        [ 4,  2, -1,  0],\n",
       "        [ 5,  3, -1,  0],\n",
       "        [-1,  4, -1,  0],\n",
       "        [-1,  0,  7, -1],\n",
       "        [ 8, -1, -1,  6],\n",
       "        [ 9,  7, -1,  6],\n",
       "        [10,  8, -1,  6],\n",
       "        [-1,  9, -1,  6]]], dtype=int32)"
      ]
     },
     "execution_count": 39,
     "metadata": {},
     "output_type": "execute_result"
    }
   ],
   "source": [
    "cont"
   ]
  }
 ],
 "metadata": {
  "kernelspec": {
   "display_name": "Python 3",
   "language": "python",
   "name": "python3"
  },
  "language_info": {
   "codemirror_mode": {
    "name": "ipython",
    "version": 3
   },
   "file_extension": ".py",
   "mimetype": "text/x-python",
   "name": "python",
   "nbconvert_exporter": "python",
   "pygments_lexer": "ipython3",
   "version": "3.7.6"
  },
  "pycharm": {
   "stem_cell": {
    "cell_type": "raw",
    "metadata": {
     "collapsed": false
    },
    "source": []
   }
  }
 },
 "nbformat": 4,
 "nbformat_minor": 4
}
